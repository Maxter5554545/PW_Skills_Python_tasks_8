{
 "cells": [
  {
   "cell_type": "code",
   "execution_count": 94,
   "id": "1a906733-b30c-4cb1-aa48-ce6699686e9b",
   "metadata": {},
   "outputs": [
    {
     "name": "stdout",
     "output_type": "stream",
     "text": [
      "[1, 2, 3, 4, [44, 55, 66, True], {1: 34, 'key2': [55, 67, 78, 89], 4: (45, 22, 61, 34)}, [56, 'data science']]\n",
      "[]\n"
     ]
    }
   ],
   "source": [
    "# Q1. Create a function which will take a list as an argument and return the product of all the numbers\n",
    "# after creating a flat list.\n",
    "# Use the below-given list as an argument for your function.\n",
    "# list1 = [1,2,3,4, [44,55,66, True], False, (34,56,78,89,34), {1,2,3,3,2,1}, {1:34, \"key2\": [55, 67, 78, 89], 4: (45,\n",
    "# 22, 61, 34)}, [56, 'data science'], 'Machine Learning']\n",
    "# Note: you must extract numeric keys and values of the dictionary also.\n",
    "\n",
    "list1 = [1,2,3,4, [44,55,66, True], False, (34,56,78,89,34), {1,2,3,3,2,1}, {1:34, \"key2\": [55, 67, 78, 89], 4: (45,\n",
    "22, 61, 34)}, [56, 'data science'], 'Machine Learning']\n",
    "\n",
    "# j = list(filter(lambda x: type(x) == int, list1))\n",
    "# k = list(filter(lambda x: type(x) == list, list1))\n",
    "# l = list(filter(lambda x: type(x) == dict, list1))\n",
    "# print(j, k, l)\n",
    "# m = map(list, k)\n",
    "# print(m)\n",
    "ls = []\n",
    "g2 = []\n",
    "for i in list1:\n",
    "    if type(i) == int:\n",
    "        ls.append(i)\n",
    "    elif type(i) == list:\n",
    "        ls.append(i)\n",
    "    elif type(i) == dict:\n",
    "        ls.append(i)\n",
    "print(ls)\n",
    "# ls[4]\n",
    "for j in ls:\n",
    "    if type(ls[4]) == int:\n",
    "        g2.append(j)\n",
    "print(g2)"
   ]
  },
  {
   "cell_type": "code",
   "execution_count": null,
   "id": "df09d329-4044-435a-b467-df29e7aea946",
   "metadata": {},
   "outputs": [],
   "source": []
  }
 ],
 "metadata": {
  "kernelspec": {
   "display_name": "Python 3 (ipykernel)",
   "language": "python",
   "name": "python3"
  },
  "language_info": {
   "codemirror_mode": {
    "name": "ipython",
    "version": 3
   },
   "file_extension": ".py",
   "mimetype": "text/x-python",
   "name": "python",
   "nbconvert_exporter": "python",
   "pygments_lexer": "ipython3",
   "version": "3.10.8"
  }
 },
 "nbformat": 4,
 "nbformat_minor": 5
}
