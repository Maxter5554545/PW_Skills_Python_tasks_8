{
 "cells": [
  {
   "cell_type": "code",
   "execution_count": 1,
   "id": "1a906733-b30c-4cb1-aa48-ce6699686e9b",
   "metadata": {},
   "outputs": [
    {
     "name": "stdout",
     "output_type": "stream",
     "text": [
      "121609171734914278789230624768000\n"
     ]
    }
   ],
   "source": [
    "# Q1. Create a function which will take a list as an argument and return the product of all the numbers\n",
    "# after creating a flat list.\n",
    "# Use the below-given list as an argument for your function.\n",
    "# list1 = [1,2,3,4, [44,55,66, True], False, (34,56,78,89,34), {1,2,3,3,2,1}, {1:34, \"key2\": [55, 67, 78, 89], 4: (45,\n",
    "# 22, 61, 34)}, [56, 'data science'], 'Machine Learning']\n",
    "# Note: you must extract numeric keys and values of the dictionary also.\n",
    "\n",
    "list1 = [1,2,3,4, [44,55,66, True], False, (34,56,78,89,34), {1,2,3,3,2,1}, {1:34, \"key2\": [55, 67, 78, 89], 4: (45,\n",
    "22, 61, 34)}, [56, 'data science'], 'Machine Learning']\n",
    "\n",
    "#For functioning this first of all we will parse all the integers from the item given in list1\n",
    "\n",
    "j = list(filter(lambda x: type(x) == int, list1)) # parsing the inegers presented in the list1\n",
    "k =  list(filter(lambda x: type(x) == list, list1))# parsing list presented in the list1\n",
    "l = list(filter(lambda x: type(x) == dict, list1))#parsing dictionary presnted in the list1 \n",
    "m = list(filter(lambda x: type(x) == tuple, list1))#parsing the tuple presented in the list1\n",
    "n = list(filter(lambda x: type(x) == set, list1))#parsing the set presented in the list1\n",
    "\n",
    "#converting the list l into dictionary\n",
    "mono = (dict(l[0]))\n",
    "\n",
    "#Now we'll be parsing the integers in keys as well as values inside dictionary as per the given conditions & converting into lists \n",
    "rq = (list(filter(lambda x: type(x) == int, mono.keys())))# parsing the integers from the keys of the dictionary\n",
    "pq = (list(filter(lambda x: type(x) == list, mono.values())))# parsing the list from the values of the dictionary\n",
    "mv = (list(filter(lambda x: type(x) == tuple, mono.values())))# parsing the tuple from the values of the dictionary\n",
    "\n",
    "#Now, we'll convert all the items into the one list\n",
    "g = (list(filter(lambda x: type(x) == int, k[0])))\n",
    "h = (list(filter(lambda x: type(x) == int, k[1])))\n",
    "s = (list(m[0]))\n",
    "d = (list(n[0]))\n",
    "rg = (list(pq[0]))\n",
    "mg = list(mv[0])\n",
    "\n",
    "#Here we add-up all the list & convert it into one list.\n",
    "tm = (j + g + h + s + d + rq + rg + mg )\n",
    "\n",
    "# the final multiplication\n",
    "pro = 1\n",
    "for i in tm:\n",
    "    pro *= i\n",
    "\n",
    "print(pro)#The final Answer\n"
   ]
  },
  {
   "cell_type": "code",
   "execution_count": 2,
   "id": "df09d329-4044-435a-b467-df29e7aea946",
   "metadata": {},
   "outputs": [
    {
     "name": "stdout",
     "output_type": "stream",
     "text": [
      "I$wznt$to$yexome$z$Dztz$Sxientist\n"
     ]
    }
   ],
   "source": [
    "\n",
    "# Q2. Write a python program for encrypting a message sent to you by your friend. The logic of encryption\n",
    "# should be such that, for a the output should be z. For b, the output should be y. For c, the output should\n",
    "# be x respectively. Also, the whitespace should be replaced with a dollar sign. Keep the punctuation\n",
    "# marks unchanged.\n",
    "\n",
    "# Input Sentence: I want to become a Data Scientist.\n",
    "\n",
    "# Encrypt the above input sentence using the program you just created.\n",
    "\n",
    "# Note: Convert the given input sentence into lowercase before encrypting. The final output should be\n",
    "# lowercase.\n",
    "\n",
    "# a = z \n",
    "\n",
    "# b = y \n",
    "\n",
    "# c = x\n",
    "\n",
    "\n",
    "inp = [\"I want to become a Data Scientist\"]\n",
    "rep = '$'\n",
    "\n",
    "for i in inp[0]:\n",
    "    if i == 'a':\n",
    "        inp[0] = inp[0].replace('a', 'z')\n",
    "    elif i == 'b':\n",
    "        inp[0] = inp[0].replace('b', 'y')\n",
    "    elif i == 'c':\n",
    "        inp[0] = inp[0].replace('c', 'x')\n",
    "\n",
    "\n",
    "c = inp[0].replace(' ', rep)\n",
    "print(c)\n",
    "\n"
   ]
  },
  {
   "cell_type": "code",
   "execution_count": null,
   "id": "f4878691-45a3-4a0e-9d7b-1ee20014580c",
   "metadata": {},
   "outputs": [],
   "source": []
  }
 ],
 "metadata": {
  "kernelspec": {
   "display_name": "Python 3 (ipykernel)",
   "language": "python",
   "name": "python3"
  },
  "language_info": {
   "codemirror_mode": {
    "name": "ipython",
    "version": 3
   },
   "file_extension": ".py",
   "mimetype": "text/x-python",
   "name": "python",
   "nbconvert_exporter": "python",
   "pygments_lexer": "ipython3",
   "version": "3.10.8"
  }
 },
 "nbformat": 4,
 "nbformat_minor": 5
}
